{
  "nbformat": 4,
  "nbformat_minor": 0,
  "metadata": {
    "colab": {
      "name": "learnfastAI-L2.ipynb",
      "version": "0.3.2",
      "provenance": [],
      "collapsed_sections": [],
      "toc_visible": true,
      "include_colab_link": true
    },
    "kernelspec": {
      "name": "python3",
      "display_name": "Python 3"
    },
    "accelerator": "GPU"
  },
  "cells": [
    {
      "cell_type": "markdown",
      "metadata": {
        "id": "view-in-github",
        "colab_type": "text"
      },
      "source": [
        "<a href=\"https://colab.research.google.com/github/md6113/learnfastAI/blob/master/learnfastAI_L2.ipynb\" target=\"_parent\"><img src=\"https://colab.research.google.com/assets/colab-badge.svg\" alt=\"Open In Colab\"/></a>"
      ]
    },
    {
      "cell_type": "markdown",
      "metadata": {
        "id": "-NEfq9-eZrYJ",
        "colab_type": "text"
      },
      "source": [
        "# Set-Up"
      ]
    },
    {
      "cell_type": "markdown",
      "metadata": {
        "id": "nj3tNKDCmwLg",
        "colab_type": "text"
      },
      "source": [
        "This workbook is to try out the fastai platform for image classification. I will try to classify 3 different plant types: \n",
        "\n",
        "Bloodleaf  \n",
        "Coleus  \n",
        "Caladium"
      ]
    },
    {
      "cell_type": "code",
      "metadata": {
        "id": "4UEHfDP-4WMN",
        "colab_type": "code",
        "colab": {}
      },
      "source": [
        "from fastai import *\n",
        "from fastai.vision import *"
      ],
      "execution_count": 0,
      "outputs": []
    },
    {
      "cell_type": "code",
      "metadata": {
        "id": "CJfKzsIvRIKc",
        "colab_type": "code",
        "colab": {}
      },
      "source": [
        "folder = 'bloodleaf'\n",
        "file = 'bloodleaf.csv'"
      ],
      "execution_count": 0,
      "outputs": []
    },
    {
      "cell_type": "code",
      "metadata": {
        "id": "-enw__9aaBIi",
        "colab_type": "code",
        "colab": {}
      },
      "source": [
        "folder = 'caladium'\n",
        "file = 'caladium.csv'"
      ],
      "execution_count": 0,
      "outputs": []
    },
    {
      "cell_type": "code",
      "metadata": {
        "id": "EIbZxp3FaG20",
        "colab_type": "code",
        "colab": {}
      },
      "source": [
        "folder = 'coleus'\n",
        "file = 'coleus.csv'"
      ],
      "execution_count": 0,
      "outputs": []
    },
    {
      "cell_type": "code",
      "metadata": {
        "id": "fQl5qJYRSpk1",
        "colab_type": "code",
        "colab": {}
      },
      "source": [
        "path = 0\n",
        "path = Path('data/colouredPlants')\n",
        "dest = path/folder\n",
        "dest.mkdir(parents=True, exist_ok=True)"
      ],
      "execution_count": 0,
      "outputs": []
    },
    {
      "cell_type": "markdown",
      "metadata": {
        "id": "cG4Fw6Q0mqgF",
        "colab_type": "text"
      },
      "source": [
        "Upload csv files of image URLS then move them to the right folder"
      ]
    },
    {
      "cell_type": "code",
      "metadata": {
        "id": "L-KF0NdTZdrB",
        "colab_type": "code",
        "colab": {}
      },
      "source": [
        "shutil.move(\"/content/bloodleaf.csv\", \"/content/data/colouredPlants/\")\n",
        "shutil.move(\"/content/caladium.csv\", \"/content/data/colouredPlants/\")\n",
        "shutil.move(\"/content/coleus.csv\", \"/content/data/colouredPlants/\")"
      ],
      "execution_count": 0,
      "outputs": []
    },
    {
      "cell_type": "markdown",
      "metadata": {
        "id": "m5T6owPqn35t",
        "colab_type": "text"
      },
      "source": [
        "double check correct paths"
      ]
    },
    {
      "cell_type": "code",
      "metadata": {
        "id": "xCXxChlCTlSX",
        "colab_type": "code",
        "colab": {}
      },
      "source": [
        "path.ls()"
      ],
      "execution_count": 0,
      "outputs": []
    },
    {
      "cell_type": "code",
      "metadata": {
        "id": "AWWu1A28UOPG",
        "colab_type": "code",
        "colab": {}
      },
      "source": [
        "classes = ['bloodleaf','caladium','coleus']"
      ],
      "execution_count": 0,
      "outputs": []
    },
    {
      "cell_type": "markdown",
      "metadata": {
        "id": "n7-iyi1mZJ_4",
        "colab_type": "text"
      },
      "source": [
        "# Get Data"
      ]
    },
    {
      "cell_type": "markdown",
      "metadata": {
        "id": "NIujpj7en7Ci",
        "colab_type": "text"
      },
      "source": [
        "I retrieved my images from Google Images using the following Javascript command taken from the fastai tutorial:  \n",
        "\n",
        "\"urls = Array.from(document.querySelectorAll('.rg_di .rg_meta')).map(el=>JSON.parse(el.textContent).ou);\n",
        "window.open('data:text/csv;charset=utf-8,' + escape(urls.join('\\n')));\""
      ]
    },
    {
      "cell_type": "code",
      "metadata": {
        "id": "jvmDW1KlUaB5",
        "colab_type": "code",
        "colab": {}
      },
      "source": [
        "fullpath = path/file\n",
        "download_images(fullpath, dest, max_pics=500)"
      ],
      "execution_count": 0,
      "outputs": []
    },
    {
      "cell_type": "code",
      "metadata": {
        "id": "Schi-WGdQKam",
        "colab_type": "code",
        "colab": {}
      },
      "source": [
        "for c in classes:\n",
        "    print(c)\n",
        "    verify_images(path/c, delete=True, max_size=500)"
      ],
      "execution_count": 0,
      "outputs": []
    },
    {
      "cell_type": "code",
      "metadata": {
        "id": "6C_z1S_fWaWX",
        "colab_type": "code",
        "colab": {}
      },
      "source": [
        "np.random.seed(42)\n",
        "data = ImageDataBunch.from_folder(path, train=\".\", valid_pct=0.2,\n",
        "        ds_tfms=get_transforms(), size=224, num_workers=4).normalize(imagenet_stats)"
      ],
      "execution_count": 0,
      "outputs": []
    },
    {
      "cell_type": "code",
      "metadata": {
        "id": "kmnNsPMJWhdW",
        "colab_type": "code",
        "colab": {}
      },
      "source": [
        "data.show_batch(rows=3, figsize=(7,8))"
      ],
      "execution_count": 0,
      "outputs": []
    },
    {
      "cell_type": "markdown",
      "metadata": {
        "id": "zGTxpufIogYj",
        "colab_type": "text"
      },
      "source": [
        "double check variables are in good order"
      ]
    },
    {
      "cell_type": "code",
      "metadata": {
        "id": "wOlQbXNbXDuK",
        "colab_type": "code",
        "colab": {}
      },
      "source": [
        "data.classes, data.c, len(data.train_ds), len(data.valid_ds)"
      ],
      "execution_count": 0,
      "outputs": []
    },
    {
      "cell_type": "markdown",
      "metadata": {
        "id": "m-JFTWnvY05g",
        "colab_type": "text"
      },
      "source": [
        "# Make a learner"
      ]
    },
    {
      "cell_type": "code",
      "metadata": {
        "id": "bz2GK19vXL9p",
        "colab_type": "code",
        "colab": {}
      },
      "source": [
        "learn = cnn_learner(data, models.resnet34, metrics=error_rate)"
      ],
      "execution_count": 0,
      "outputs": []
    },
    {
      "cell_type": "code",
      "metadata": {
        "id": "YyTyLRuJXT1t",
        "colab_type": "code",
        "outputId": "56f63a5b-75e2-4ea2-99bb-d8e18640bb6a",
        "colab": {
          "base_uri": "https://localhost:8080/",
          "height": 173
        }
      },
      "source": [
        "learn.fit_one_cycle(4)"
      ],
      "execution_count": 47,
      "outputs": [
        {
          "output_type": "display_data",
          "data": {
            "text/html": [
              "<table border=\"1\" class=\"dataframe\">\n",
              "  <thead>\n",
              "    <tr style=\"text-align: left;\">\n",
              "      <th>epoch</th>\n",
              "      <th>train_loss</th>\n",
              "      <th>valid_loss</th>\n",
              "      <th>error_rate</th>\n",
              "      <th>time</th>\n",
              "    </tr>\n",
              "  </thead>\n",
              "  <tbody>\n",
              "    <tr>\n",
              "      <td>0</td>\n",
              "      <td>1.071269</td>\n",
              "      <td>0.564176</td>\n",
              "      <td>0.238298</td>\n",
              "      <td>00:13</td>\n",
              "    </tr>\n",
              "    <tr>\n",
              "      <td>1</td>\n",
              "      <td>0.723153</td>\n",
              "      <td>0.377389</td>\n",
              "      <td>0.131915</td>\n",
              "      <td>00:13</td>\n",
              "    </tr>\n",
              "    <tr>\n",
              "      <td>2</td>\n",
              "      <td>0.567505</td>\n",
              "      <td>0.332288</td>\n",
              "      <td>0.144681</td>\n",
              "      <td>00:13</td>\n",
              "    </tr>\n",
              "    <tr>\n",
              "      <td>3</td>\n",
              "      <td>0.473097</td>\n",
              "      <td>0.332439</td>\n",
              "      <td>0.144681</td>\n",
              "      <td>00:13</td>\n",
              "    </tr>\n",
              "  </tbody>\n",
              "</table>"
            ],
            "text/plain": [
              "<IPython.core.display.HTML object>"
            ]
          },
          "metadata": {
            "tags": []
          }
        }
      ]
    },
    {
      "cell_type": "code",
      "metadata": {
        "id": "yuUNry_jXkwS",
        "colab_type": "code",
        "colab": {}
      },
      "source": [
        "learn.save('stage-1')"
      ],
      "execution_count": 0,
      "outputs": []
    },
    {
      "cell_type": "code",
      "metadata": {
        "id": "m5uIEKdrXl5e",
        "colab_type": "code",
        "colab": {}
      },
      "source": [
        "learn.unfreeze()"
      ],
      "execution_count": 0,
      "outputs": []
    },
    {
      "cell_type": "code",
      "metadata": {
        "id": "I8iEJuKPXrLH",
        "colab_type": "code",
        "outputId": "77863358-0a4d-430c-dfaf-b068ec8864cd",
        "colab": {
          "base_uri": "https://localhost:8080/",
          "height": 34
        }
      },
      "source": [
        "learn.lr_find()"
      ],
      "execution_count": 50,
      "outputs": [
        {
          "output_type": "display_data",
          "data": {
            "text/html": [
              ""
            ],
            "text/plain": [
              "<IPython.core.display.HTML object>"
            ]
          },
          "metadata": {
            "tags": []
          }
        },
        {
          "output_type": "stream",
          "text": [
            "LR Finder is complete, type {learner_name}.recorder.plot() to see the graph.\n"
          ],
          "name": "stdout"
        }
      ]
    },
    {
      "cell_type": "code",
      "metadata": {
        "id": "irOIaK9OYFgL",
        "colab_type": "code",
        "outputId": "03f5155f-f846-4ab3-8971-dbf1710c63dc",
        "colab": {
          "base_uri": "https://localhost:8080/",
          "height": 283
        }
      },
      "source": [
        "learn.recorder.plot()"
      ],
      "execution_count": 51,
      "outputs": [
        {
          "output_type": "display_data",
          "data": {
            "image/png": "[encoded data removed]",
            "text/plain": [
              "<Figure size 432x288 with 1 Axes>"
            ]
          },
          "metadata": {
            "tags": []
          }
        }
      ]
    },
    {
      "cell_type": "code",
      "metadata": {
        "id": "RQj0B9QOYaRE",
        "colab_type": "code",
        "outputId": "a5535c20-adf6-4b2e-c37a-641cdcc7ac54",
        "colab": {
          "base_uri": "https://localhost:8080/",
          "height": 235
        }
      },
      "source": [
        "learn.fit_one_cycle(6, max_lr=slice(4e-3,2e-4))\n",
        "learn.save('stage-3')"
      ],
      "execution_count": 54,
      "outputs": [
        {
          "output_type": "display_data",
          "data": {
            "text/html": [
              "<table border=\"1\" class=\"dataframe\">\n",
              "  <thead>\n",
              "    <tr style=\"text-align: left;\">\n",
              "      <th>epoch</th>\n",
              "      <th>train_loss</th>\n",
              "      <th>valid_loss</th>\n",
              "      <th>error_rate</th>\n",
              "      <th>time</th>\n",
              "    </tr>\n",
              "  </thead>\n",
              "  <tbody>\n",
              "    <tr>\n",
              "      <td>0</td>\n",
              "      <td>0.518719</td>\n",
              "      <td>0.516145</td>\n",
              "      <td>0.195745</td>\n",
              "      <td>00:13</td>\n",
              "    </tr>\n",
              "    <tr>\n",
              "      <td>1</td>\n",
              "      <td>0.520373</td>\n",
              "      <td>3.512704</td>\n",
              "      <td>0.417021</td>\n",
              "      <td>00:14</td>\n",
              "    </tr>\n",
              "    <tr>\n",
              "      <td>2</td>\n",
              "      <td>0.550534</td>\n",
              "      <td>4.327753</td>\n",
              "      <td>0.523404</td>\n",
              "      <td>00:14</td>\n",
              "    </tr>\n",
              "    <tr>\n",
              "      <td>3</td>\n",
              "      <td>0.563088</td>\n",
              "      <td>1.406576</td>\n",
              "      <td>0.365957</td>\n",
              "      <td>00:15</td>\n",
              "    </tr>\n",
              "    <tr>\n",
              "      <td>4</td>\n",
              "      <td>0.517063</td>\n",
              "      <td>0.544586</td>\n",
              "      <td>0.170213</td>\n",
              "      <td>00:14</td>\n",
              "    </tr>\n",
              "    <tr>\n",
              "      <td>5</td>\n",
              "      <td>0.477965</td>\n",
              "      <td>0.478408</td>\n",
              "      <td>0.161702</td>\n",
              "      <td>00:15</td>\n",
              "    </tr>\n",
              "  </tbody>\n",
              "</table>"
            ],
            "text/plain": [
              "<IPython.core.display.HTML object>"
            ]
          },
          "metadata": {
            "tags": []
          }
        }
      ]
    },
    {
      "cell_type": "markdown",
      "metadata": {
        "id": "8jDqHebRoR6K",
        "colab_type": "text"
      },
      "source": [
        "# Evaluate the learner"
      ]
    },
    {
      "cell_type": "code",
      "metadata": {
        "id": "BrWzlRnjkFUz",
        "colab_type": "code",
        "colab": {}
      },
      "source": [
        "learn.load('stage-3');"
      ],
      "execution_count": 0,
      "outputs": []
    },
    {
      "cell_type": "code",
      "metadata": {
        "id": "wGjbWihyoYhr",
        "colab_type": "code",
        "colab": {}
      },
      "source": [
        "interp = ClassificationInterpretation.from_learner(learn)"
      ],
      "execution_count": 0,
      "outputs": []
    },
    {
      "cell_type": "code",
      "metadata": {
        "id": "o1-hFxdkoeaz",
        "colab_type": "code",
        "colab": {
          "base_uri": "https://localhost:8080/",
          "height": 311
        },
        "outputId": "99bb892a-f3cb-4df4-cca4-630f4acd62a4"
      },
      "source": [
        "interp.plot_confusion_matrix()"
      ],
      "execution_count": 41,
      "outputs": [
        {
          "output_type": "display_data",
          "data": {
            "image/png": "[encoded data removed]",
            "text/plain": [
              "<Figure size 432x288 with 1 Axes>"
            ]
          },
          "metadata": {
            "tags": []
          }
        }
      ]
    },
    {
      "cell_type": "markdown",
      "metadata": {
        "id": "yssxoHykqKG0",
        "colab_type": "text"
      },
      "source": [
        "# Round 2"
      ]
    },
    {
      "cell_type": "markdown",
      "metadata": {
        "id": "UDF6JI-jqRVB",
        "colab_type": "text"
      },
      "source": [
        "Remove bad images"
      ]
    },
    {
      "cell_type": "code",
      "metadata": {
        "id": "Eww_PIBDotDt",
        "colab_type": "code",
        "colab": {}
      },
      "source": [
        "from fastai.widgets import *"
      ],
      "execution_count": 0,
      "outputs": []
    },
    {
      "cell_type": "code",
      "metadata": {
        "id": "ngy3hXtkp_Ma",
        "colab_type": "code",
        "colab": {}
      },
      "source": [
        "db = (ImageList.from_folder(path)\n",
        "                   .split_none()\n",
        "                   .label_from_folder()\n",
        "                   .transform(get_transforms(), size=224)\n",
        "                   .databunch()\n",
        "     )"
      ],
      "execution_count": 0,
      "outputs": []
    },
    {
      "cell_type": "code",
      "metadata": {
        "id": "allkgHMKqcBq",
        "colab_type": "code",
        "colab": {}
      },
      "source": [
        "learn_cln = cnn_learner(db, models.resnet34, metrics=error_rate)\n",
        "learn_cln.load('stage-2');"
      ],
      "execution_count": 0,
      "outputs": []
    },
    {
      "cell_type": "code",
      "metadata": {
        "id": "D2mTsOTqqfG-",
        "colab_type": "code",
        "colab": {}
      },
      "source": [
        "ds, idxs = DatasetFormatter().from_toplosses(learn_cln)"
      ],
      "execution_count": 0,
      "outputs": []
    },
    {
      "cell_type": "markdown",
      "metadata": {
        "id": "i_xTs-A9G25P",
        "colab_type": "text"
      },
      "source": [
        "The image cleaner widget doesn't work in colab, so I took 20 mins or so and inspected the datasets by hand. The bloodleaf dataset had a number of bad/unrelated images. I removed those I found.\n",
        "\n",
        "After removing some images I retrained the classifier as 'stage-3'.\n",
        "\n",
        "The effect of this removal did not help the classifier. Instead, it made it worse. This is likely because of the fact that most of the removed images were similar, and the classifier now is randomly assigning them to classes as opposed to the one it came from from (but shouldn't be present in)"
      ]
    },
    {
      "cell_type": "code",
      "metadata": {
        "id": "Rxk8yWDrqkvX",
        "colab_type": "code",
        "colab": {}
      },
      "source": [
        "# ImageCleaner(ds, idxs, path)\n",
        "ImageCleaner??"
      ],
      "execution_count": 0,
      "outputs": []
    },
    {
      "cell_type": "markdown",
      "metadata": {
        "id": "v9UKLqe80q7y",
        "colab_type": "text"
      },
      "source": [
        "# Export to production"
      ]
    },
    {
      "cell_type": "code",
      "metadata": {
        "id": "_cS95bFO0wDL",
        "colab_type": "code",
        "colab": {}
      },
      "source": [
        "learn.export()"
      ],
      "execution_count": 0,
      "outputs": []
    },
    {
      "cell_type": "code",
      "metadata": {
        "id": "3bELEXI-0zmo",
        "colab_type": "code",
        "colab": {}
      },
      "source": [
        "defaults.device = torch.device('cpu')"
      ],
      "execution_count": 0,
      "outputs": []
    },
    {
      "cell_type": "code",
      "metadata": {
        "id": "IzW-LpPm03aU",
        "colab_type": "code",
        "colab": {}
      },
      "source": [
        "learn = load_learner(path)"
      ],
      "execution_count": 0,
      "outputs": []
    },
    {
      "cell_type": "code",
      "metadata": {
        "id": "BxRYJc_P1F9e",
        "colab_type": "code",
        "colab": {}
      },
      "source": [
        "pred_class,pred_idx,outputs = learn.predict(img)\n",
        "pred_class"
      ],
      "execution_count": 0,
      "outputs": []
    }
  ]
}